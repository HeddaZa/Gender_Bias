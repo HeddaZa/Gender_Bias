{
 "cells": [
  {
   "cell_type": "code",
   "execution_count": 1,
   "metadata": {},
   "outputs": [
    {
     "data": {
      "text/html": [
       "<style>.container { width:100% !important; }</style>"
      ],
      "text/plain": [
       "<IPython.core.display.HTML object>"
      ]
     },
     "metadata": {},
     "output_type": "display_data"
    }
   ],
   "source": [
    "import time\n",
    "import pandas as pd\n",
    "import numpy  as np\n",
    "import matplotlib.pyplot as plt\n",
    "\n",
    "from IPython.core.display import display, HTML\n",
    "display(HTML(\"<style>.container { width:100% !important; }</style>\"))\n",
    "\n",
    "# data from:\n",
    "# https://www.imdb.com/interfaces/\n"
   ]
  },
  {
   "cell_type": "markdown",
   "metadata": {},
   "source": [
    "# Load descriptions data"
   ]
  },
  {
   "cell_type": "code",
   "execution_count": 3,
   "metadata": {},
   "outputs": [
    {
     "name": "stderr",
     "output_type": "stream",
     "text": [
      "C:\\Users\\CANCELLIERIE\\AppData\\Local\\Continuum\\anaconda3\\lib\\site-packages\\IPython\\core\\interactiveshell.py:3049: DtypeWarning: Columns (5) have mixed types. Specify dtype option on import or set low_memory=False.\n",
      "  interactivity=interactivity, compiler=compiler, result=result)\n"
     ]
    }
   ],
   "source": [
    "fpath = \"./title.basics.tsv/data.tsv\"\n",
    "df_title = pd.read_csv(fpath, sep='\\t')\n",
    "\n",
    "years = [2000, 2001, 2002, 2003, 2004, 2005]\n",
    "\n",
    "df = pd.DataFrame()\n",
    "for year in years:\n",
    "    df_aux = pd.read_csv('IMDB_movie_description_'+str(year)+'.csv')\n",
    "    df = df.append(df_aux)\n",
    "df = df.drop(['Unnamed: 0'], axis=1)\n",
    "df = df.merge(df_title, on='tconst', how='left')\n",
    "df = df[['tconst', 'description', 'primaryTitle', 'originalTitle',\n",
    "       'isAdult', 'startYear', 'endYear', 'runtimeMinutes', 'genres']]"
   ]
  },
  {
   "cell_type": "code",
   "execution_count": 4,
   "metadata": {},
   "outputs": [
    {
     "data": {
      "text/html": [
       "<div>\n",
       "<style scoped>\n",
       "    .dataframe tbody tr th:only-of-type {\n",
       "        vertical-align: middle;\n",
       "    }\n",
       "\n",
       "    .dataframe tbody tr th {\n",
       "        vertical-align: top;\n",
       "    }\n",
       "\n",
       "    .dataframe thead th {\n",
       "        text-align: right;\n",
       "    }\n",
       "</style>\n",
       "<table border=\"1\" class=\"dataframe\">\n",
       "  <thead>\n",
       "    <tr style=\"text-align: right;\">\n",
       "      <th></th>\n",
       "      <th>tconst</th>\n",
       "      <th>description</th>\n",
       "      <th>primaryTitle</th>\n",
       "      <th>originalTitle</th>\n",
       "      <th>isAdult</th>\n",
       "      <th>startYear</th>\n",
       "      <th>endYear</th>\n",
       "      <th>runtimeMinutes</th>\n",
       "      <th>genres</th>\n",
       "    </tr>\n",
       "  </thead>\n",
       "  <tbody>\n",
       "    <tr>\n",
       "      <th>0</th>\n",
       "      <td>tt0113026</td>\n",
       "      <td>The Fantasticks is a movie starring Joel Grey,...</td>\n",
       "      <td>The Fantasticks</td>\n",
       "      <td>The Fantasticks</td>\n",
       "      <td>0</td>\n",
       "      <td>2000</td>\n",
       "      <td>\\N</td>\n",
       "      <td>86</td>\n",
       "      <td>Musical,Romance</td>\n",
       "    </tr>\n",
       "    <tr>\n",
       "      <th>1</th>\n",
       "      <td>tt0113092</td>\n",
       "      <td>For the Cause is a movie starring Dean Cain, T...</td>\n",
       "      <td>For the Cause</td>\n",
       "      <td>For the Cause</td>\n",
       "      <td>0</td>\n",
       "      <td>2000</td>\n",
       "      <td>\\N</td>\n",
       "      <td>100</td>\n",
       "      <td>Action,Adventure,Drama</td>\n",
       "    </tr>\n",
       "    <tr>\n",
       "      <th>2</th>\n",
       "      <td>tt0118694</td>\n",
       "      <td>Faa yeung nin wa is a movie starring Tony Chiu...</td>\n",
       "      <td>In the Mood for Love</td>\n",
       "      <td>Faa yeung nin wa</td>\n",
       "      <td>0</td>\n",
       "      <td>2000</td>\n",
       "      <td>\\N</td>\n",
       "      <td>98</td>\n",
       "      <td>Drama,Romance</td>\n",
       "    </tr>\n",
       "    <tr>\n",
       "      <th>3</th>\n",
       "      <td>tt0118852</td>\n",
       "      <td>Chinese Coffee is a movie starring Al Pacino, ...</td>\n",
       "      <td>Chinese Coffee</td>\n",
       "      <td>Chinese Coffee</td>\n",
       "      <td>0</td>\n",
       "      <td>2000</td>\n",
       "      <td>\\N</td>\n",
       "      <td>99</td>\n",
       "      <td>Drama</td>\n",
       "    </tr>\n",
       "    <tr>\n",
       "      <th>4</th>\n",
       "      <td>tt0119273</td>\n",
       "      <td>Heavy Metal 2000 is a movie starring Michael I...</td>\n",
       "      <td>Heavy Metal 2000</td>\n",
       "      <td>Heavy Metal 2000</td>\n",
       "      <td>0</td>\n",
       "      <td>2000</td>\n",
       "      <td>\\N</td>\n",
       "      <td>88</td>\n",
       "      <td>Action,Adventure,Animation</td>\n",
       "    </tr>\n",
       "  </tbody>\n",
       "</table>\n",
       "</div>"
      ],
      "text/plain": [
       "      tconst                                        description  \\\n",
       "0  tt0113026  The Fantasticks is a movie starring Joel Grey,...   \n",
       "1  tt0113092  For the Cause is a movie starring Dean Cain, T...   \n",
       "2  tt0118694  Faa yeung nin wa is a movie starring Tony Chiu...   \n",
       "3  tt0118852  Chinese Coffee is a movie starring Al Pacino, ...   \n",
       "4  tt0119273  Heavy Metal 2000 is a movie starring Michael I...   \n",
       "\n",
       "           primaryTitle     originalTitle  isAdult startYear endYear  \\\n",
       "0       The Fantasticks   The Fantasticks        0      2000      \\N   \n",
       "1         For the Cause     For the Cause        0      2000      \\N   \n",
       "2  In the Mood for Love  Faa yeung nin wa        0      2000      \\N   \n",
       "3        Chinese Coffee    Chinese Coffee        0      2000      \\N   \n",
       "4      Heavy Metal 2000  Heavy Metal 2000        0      2000      \\N   \n",
       "\n",
       "  runtimeMinutes                      genres  \n",
       "0             86             Musical,Romance  \n",
       "1            100      Action,Adventure,Drama  \n",
       "2             98               Drama,Romance  \n",
       "3             99                       Drama  \n",
       "4             88  Action,Adventure,Animation  "
      ]
     },
     "execution_count": 4,
     "metadata": {},
     "output_type": "execute_result"
    }
   ],
   "source": [
    "df.head()"
   ]
  },
  {
   "cell_type": "markdown",
   "metadata": {},
   "source": [
    "# Tfidf Vectorizer"
   ]
  },
  {
   "cell_type": "code",
   "execution_count": 145,
   "metadata": {},
   "outputs": [
    {
     "name": "stdout",
     "output_type": "stream",
     "text": [
      "(6289, 2464)\n"
     ]
    },
    {
     "name": "stderr",
     "output_type": "stream",
     "text": [
      "C:\\Users\\CANCELLIERIE\\AppData\\Local\\Continuum\\anaconda3\\lib\\site-packages\\sklearn\\feature_extraction\\text.py:1089: FutureWarning: Conversion of the second argument of issubdtype from `float` to `np.floating` is deprecated. In future, it will be treated as `np.float64 == np.dtype(float).type`.\n",
      "  if hasattr(X, 'dtype') and np.issubdtype(X.dtype, np.float):\n"
     ]
    }
   ],
   "source": [
    "import nltk\n",
    "from nltk.corpus import stopwords\n",
    "from sklearn.feature_extraction.text import TfidfVectorizer\n",
    "\n",
    "# list of text documents\n",
    "text = df['description'].values\n",
    "\n",
    "# create the transform\n",
    "# tokenize and build vocab\n",
    "stop_words = stopwords.words('english')\n",
    "vectorizer = TfidfVectorizer(stop_words=stop_words, min_df=10, max_df=250, lowercase=True)\n",
    "#vectorizer = TfidfVectorizer(stop_words=stop_words, lowercase=True)\n",
    "vector     = vectorizer.fit_transform(text)\n",
    "\n",
    "# summarize\n",
    "#print(vectorizer.vocabulary_)\n",
    "print(vector.shape)\n",
    "#print(type(vector))\n",
    "#print(vector.toarray())"
   ]
  },
  {
   "cell_type": "markdown",
   "metadata": {},
   "source": [
    "# KMeans clustering"
   ]
  },
  {
   "cell_type": "code",
   "execution_count": 146,
   "metadata": {},
   "outputs": [
    {
     "data": {
      "text/plain": [
       "KMeans(algorithm='auto', copy_x=True, init='k-means++', max_iter=100,\n",
       "    n_clusters=2, n_init=1, n_jobs=1, precompute_distances='auto',\n",
       "    random_state=None, tol=0.0001, verbose=0)"
      ]
     },
     "execution_count": 146,
     "metadata": {},
     "output_type": "execute_result"
    }
   ],
   "source": [
    "from sklearn         import metrics\n",
    "from sklearn.cluster import KMeans\n",
    "\n",
    "true_k = 2\n",
    "model = KMeans(n_clusters=true_k, init='k-means++', max_iter=100, n_init=1)\n",
    "model.fit(vector)"
   ]
  },
  {
   "cell_type": "code",
   "execution_count": 147,
   "metadata": {},
   "outputs": [],
   "source": [
    "order_centroids = model.cluster_centers_.argsort()[:, ::-1]\n",
    "terms = vectorizer.get_feature_names()"
   ]
  },
  {
   "cell_type": "code",
   "execution_count": 148,
   "metadata": {},
   "outputs": [
    {
     "name": "stdout",
     "output_type": "stream",
     "text": [
      "Cluster 0:\n",
      " year\n",
      " david\n",
      " de\n",
      " father\n",
      " years\n",
      " lives\n",
      " james\n",
      " group\n",
      " school\n",
      " documentary\n",
      "Cluster 1:\n",
      " town\n",
      " small\n",
      " friend\n",
      " peter\n",
      " best\n",
      " time\n",
      " wife\n",
      " living\n",
      " village\n",
      " school\n"
     ]
    }
   ],
   "source": [
    "for i in range(true_k):\n",
    "    print('Cluster %d:' % i),\n",
    "    for ind in order_centroids[i, :10]:\n",
    "        print(' %s' % terms[ind])"
   ]
  },
  {
   "cell_type": "code",
   "execution_count": null,
   "metadata": {},
   "outputs": [],
   "source": []
  }
 ],
 "metadata": {
  "kernelspec": {
   "display_name": "Python 3",
   "language": "python",
   "name": "python3"
  },
  "language_info": {
   "codemirror_mode": {
    "name": "ipython",
    "version": 3
   },
   "file_extension": ".py",
   "mimetype": "text/x-python",
   "name": "python",
   "nbconvert_exporter": "python",
   "pygments_lexer": "ipython3",
   "version": "3.7.4"
  }
 },
 "nbformat": 4,
 "nbformat_minor": 2
}
