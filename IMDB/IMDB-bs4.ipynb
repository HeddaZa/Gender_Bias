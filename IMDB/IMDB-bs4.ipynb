{
 "cells": [
  {
   "cell_type": "code",
   "execution_count": 83,
   "metadata": {},
   "outputs": [
    {
     "name": "stdout",
     "output_type": "stream",
     "text": [
      "The autoreload extension is already loaded. To reload it, use:\n",
      "  %reload_ext autoreload\n"
     ]
    }
   ],
   "source": [
    "import numpy as np\n",
    "import pandas as pd\n",
    "import glob as gl\n",
    "from matplotlib import pyplot as plt\n",
    "from sklearn.feature_extraction.text import CountVectorizer\n",
    "#from random import sample\n",
    "\n",
    "\n",
    "%load_ext autoreload\n",
    "%autoreload 2\n",
    "%matplotlib inline"
   ]
  },
  {
   "cell_type": "markdown",
   "metadata": {},
   "source": [
    "We downloaded data from the \"Internet movie data base\" and want to persue some analysis on whether the gender of the directors is somehow related to how movies are rated. https://www.imdb.com/interfaces/"
   ]
  },
  {
   "cell_type": "code",
   "execution_count": 2,
   "metadata": {},
   "outputs": [],
   "source": [
    "names = pd.read_csv('name.basics.tsv\\data.tsv',sep='\\t',usecols = [0,1])"
   ]
  },
  {
   "cell_type": "code",
   "execution_count": 3,
   "metadata": {},
   "outputs": [],
   "source": [
    "ratings = pd.read_csv('title.ratings.tsv\\data.tsv',sep='\\t')\n",
    "\n",
    "crew = pd.read_csv('title.crew.tsv\\data.tsv',sep='\\t')"
   ]
  },
  {
   "cell_type": "code",
   "execution_count": 4,
   "metadata": {},
   "outputs": [
    {
     "name": "stderr",
     "output_type": "stream",
     "text": [
      "C:\\Users\\GresselH\\AppData\\Local\\Continuum\\anaconda3\\lib\\site-packages\\IPython\\core\\interactiveshell.py:3058: DtypeWarning: Columns (5) have mixed types. Specify dtype option on import or set low_memory=False.\n",
      "  interactivity=interactivity, compiler=compiler, result=result)\n"
     ]
    }
   ],
   "source": [
    "title = pd.read_csv('title.basics.tsv\\data.tsv',sep='\\t',usecols = [0,1,2,3,4,5,8])\n"
   ]
  },
  {
   "cell_type": "code",
   "execution_count": 5,
   "metadata": {},
   "outputs": [],
   "source": [
    "title = title[(title.isAdult == 0) & (title['titleType'] == 'movie') & (title['startYear'] != '\\\\N')]\n",
    "title = title.drop(['isAdult','titleType'],axis =1)"
   ]
  },
  {
   "cell_type": "markdown",
   "metadata": {},
   "source": [
    "We reduce the dataset a bit and look only at movies from 2019:"
   ]
  },
  {
   "cell_type": "code",
   "execution_count": 6,
   "metadata": {},
   "outputs": [],
   "source": [
    "title_Period = title[(title.startYear.astype(int) == 2000) ].copy()"
   ]
  },
  {
   "cell_type": "code",
   "execution_count": 7,
   "metadata": {},
   "outputs": [
    {
     "data": {
      "text/html": [
       "<div>\n",
       "<style scoped>\n",
       "    .dataframe tbody tr th:only-of-type {\n",
       "        vertical-align: middle;\n",
       "    }\n",
       "\n",
       "    .dataframe tbody tr th {\n",
       "        vertical-align: top;\n",
       "    }\n",
       "\n",
       "    .dataframe thead th {\n",
       "        text-align: right;\n",
       "    }\n",
       "</style>\n",
       "<table border=\"1\" class=\"dataframe\">\n",
       "  <thead>\n",
       "    <tr style=\"text-align: right;\">\n",
       "      <th></th>\n",
       "      <th>tconst</th>\n",
       "      <th>primaryTitle</th>\n",
       "      <th>originalTitle</th>\n",
       "      <th>startYear</th>\n",
       "      <th>genres</th>\n",
       "    </tr>\n",
       "  </thead>\n",
       "  <tbody>\n",
       "    <tr>\n",
       "      <td>100128</td>\n",
       "      <td>tt0102362</td>\n",
       "      <td>Istota</td>\n",
       "      <td>Istota</td>\n",
       "      <td>2000</td>\n",
       "      <td>Drama,Romance</td>\n",
       "    </tr>\n",
       "    <tr>\n",
       "      <td>105380</td>\n",
       "      <td>tt0107706</td>\n",
       "      <td>Nothing</td>\n",
       "      <td>Nothing</td>\n",
       "      <td>2000</td>\n",
       "      <td>\\N</td>\n",
       "    </tr>\n",
       "    <tr>\n",
       "      <td>110583</td>\n",
       "      <td>tt0113026</td>\n",
       "      <td>The Fantasticks</td>\n",
       "      <td>The Fantasticks</td>\n",
       "      <td>2000</td>\n",
       "      <td>Musical,Romance</td>\n",
       "    </tr>\n",
       "    <tr>\n",
       "      <td>110641</td>\n",
       "      <td>tt0113086</td>\n",
       "      <td>Florentino y el diablo</td>\n",
       "      <td>Florentino y el diablo</td>\n",
       "      <td>2000</td>\n",
       "      <td>Drama</td>\n",
       "    </tr>\n",
       "    <tr>\n",
       "      <td>110647</td>\n",
       "      <td>tt0113092</td>\n",
       "      <td>For the Cause</td>\n",
       "      <td>For the Cause</td>\n",
       "      <td>2000</td>\n",
       "      <td>Action,Adventure,Drama</td>\n",
       "    </tr>\n",
       "    <tr>\n",
       "      <td>...</td>\n",
       "      <td>...</td>\n",
       "      <td>...</td>\n",
       "      <td>...</td>\n",
       "      <td>...</td>\n",
       "      <td>...</td>\n",
       "    </tr>\n",
       "    <tr>\n",
       "      <td>6113572</td>\n",
       "      <td>tt9748646</td>\n",
       "      <td>Uma Outra Cidade</td>\n",
       "      <td>Uma Outra Cidade</td>\n",
       "      <td>2000</td>\n",
       "      <td>Documentary</td>\n",
       "    </tr>\n",
       "    <tr>\n",
       "      <td>6116662</td>\n",
       "      <td>tt9755166</td>\n",
       "      <td>The Sahara's Secret Garden</td>\n",
       "      <td>The Sahara's Secret Garden</td>\n",
       "      <td>2000</td>\n",
       "      <td>Documentary</td>\n",
       "    </tr>\n",
       "    <tr>\n",
       "      <td>6121529</td>\n",
       "      <td>tt9765426</td>\n",
       "      <td>Hammering It Out</td>\n",
       "      <td>Hammering It Out</td>\n",
       "      <td>2000</td>\n",
       "      <td>\\N</td>\n",
       "    </tr>\n",
       "    <tr>\n",
       "      <td>6136892</td>\n",
       "      <td>tt9797592</td>\n",
       "      <td>Karnaza</td>\n",
       "      <td>Karnaza</td>\n",
       "      <td>2000</td>\n",
       "      <td>Horror</td>\n",
       "    </tr>\n",
       "    <tr>\n",
       "      <td>6153943</td>\n",
       "      <td>tt9833388</td>\n",
       "      <td>Los Hijos de Benkos</td>\n",
       "      <td>Los Hijos de Benkos</td>\n",
       "      <td>2000</td>\n",
       "      <td>Music</td>\n",
       "    </tr>\n",
       "  </tbody>\n",
       "</table>\n",
       "<p>4877 rows × 5 columns</p>\n",
       "</div>"
      ],
      "text/plain": [
       "            tconst                primaryTitle               originalTitle  \\\n",
       "100128   tt0102362                      Istota                      Istota   \n",
       "105380   tt0107706                     Nothing                     Nothing   \n",
       "110583   tt0113026             The Fantasticks             The Fantasticks   \n",
       "110641   tt0113086      Florentino y el diablo      Florentino y el diablo   \n",
       "110647   tt0113092               For the Cause               For the Cause   \n",
       "...            ...                         ...                         ...   \n",
       "6113572  tt9748646            Uma Outra Cidade            Uma Outra Cidade   \n",
       "6116662  tt9755166  The Sahara's Secret Garden  The Sahara's Secret Garden   \n",
       "6121529  tt9765426            Hammering It Out            Hammering It Out   \n",
       "6136892  tt9797592                     Karnaza                     Karnaza   \n",
       "6153943  tt9833388         Los Hijos de Benkos         Los Hijos de Benkos   \n",
       "\n",
       "        startYear                  genres  \n",
       "100128       2000           Drama,Romance  \n",
       "105380       2000                      \\N  \n",
       "110583       2000         Musical,Romance  \n",
       "110641       2000                   Drama  \n",
       "110647       2000  Action,Adventure,Drama  \n",
       "...           ...                     ...  \n",
       "6113572      2000             Documentary  \n",
       "6116662      2000             Documentary  \n",
       "6121529      2000                      \\N  \n",
       "6136892      2000                  Horror  \n",
       "6153943      2000                   Music  \n",
       "\n",
       "[4877 rows x 5 columns]"
      ]
     },
     "execution_count": 7,
     "metadata": {},
     "output_type": "execute_result"
    }
   ],
   "source": [
    "title_Period"
   ]
  },
  {
   "cell_type": "code",
   "execution_count": 8,
   "metadata": {},
   "outputs": [],
   "source": [
    "list_of_title_numbers = title_Period.tconst.tolist()"
   ]
  },
  {
   "cell_type": "code",
   "execution_count": null,
   "metadata": {},
   "outputs": [],
   "source": []
  },
  {
   "cell_type": "code",
   "execution_count": null,
   "metadata": {},
   "outputs": [],
   "source": []
  },
  {
   "cell_type": "code",
   "execution_count": 9,
   "metadata": {},
   "outputs": [
    {
     "data": {
      "text/html": [
       "<div>\n",
       "<style scoped>\n",
       "    .dataframe tbody tr th:only-of-type {\n",
       "        vertical-align: middle;\n",
       "    }\n",
       "\n",
       "    .dataframe tbody tr th {\n",
       "        vertical-align: top;\n",
       "    }\n",
       "\n",
       "    .dataframe thead th {\n",
       "        text-align: right;\n",
       "    }\n",
       "</style>\n",
       "<table border=\"1\" class=\"dataframe\">\n",
       "  <thead>\n",
       "    <tr style=\"text-align: right;\">\n",
       "      <th></th>\n",
       "      <th>tconst</th>\n",
       "      <th>primaryTitle</th>\n",
       "      <th>originalTitle</th>\n",
       "      <th>startYear</th>\n",
       "      <th>genres</th>\n",
       "    </tr>\n",
       "  </thead>\n",
       "  <tbody>\n",
       "    <tr>\n",
       "      <td>8</td>\n",
       "      <td>tt0000009</td>\n",
       "      <td>Miss Jerry</td>\n",
       "      <td>Miss Jerry</td>\n",
       "      <td>1894</td>\n",
       "      <td>Romance</td>\n",
       "    </tr>\n",
       "    <tr>\n",
       "      <td>145</td>\n",
       "      <td>tt0000147</td>\n",
       "      <td>The Corbett-Fitzsimmons Fight</td>\n",
       "      <td>The Corbett-Fitzsimmons Fight</td>\n",
       "      <td>1897</td>\n",
       "      <td>Documentary,News,Sport</td>\n",
       "    </tr>\n",
       "  </tbody>\n",
       "</table>\n",
       "</div>"
      ],
      "text/plain": [
       "        tconst                   primaryTitle                  originalTitle  \\\n",
       "8    tt0000009                     Miss Jerry                     Miss Jerry   \n",
       "145  tt0000147  The Corbett-Fitzsimmons Fight  The Corbett-Fitzsimmons Fight   \n",
       "\n",
       "    startYear                  genres  \n",
       "8        1894                 Romance  \n",
       "145      1897  Documentary,News,Sport  "
      ]
     },
     "execution_count": 9,
     "metadata": {},
     "output_type": "execute_result"
    }
   ],
   "source": [
    "title.head(2)"
   ]
  },
  {
   "cell_type": "markdown",
   "metadata": {},
   "source": [
    "Replacing the string '\\N' with np.nan:"
   ]
  },
  {
   "cell_type": "code",
   "execution_count": 10,
   "metadata": {},
   "outputs": [],
   "source": [
    "crew = crew.replace(r'\\N', np.nan)\n",
    "ratings = ratings.replace(r'\\N', np.nan)\n",
    "names = names.replace(r'\\N', np.nan)"
   ]
  },
  {
   "cell_type": "code",
   "execution_count": 11,
   "metadata": {},
   "outputs": [
    {
     "data": {
      "text/plain": [
       "[6193756, 976773, 9604401]"
      ]
     },
     "execution_count": 11,
     "metadata": {},
     "output_type": "execute_result"
    }
   ],
   "source": [
    "[len(crew),len(ratings),len(names)]"
   ]
  },
  {
   "cell_type": "code",
   "execution_count": 12,
   "metadata": {},
   "outputs": [
    {
     "data": {
      "text/html": [
       "<div>\n",
       "<style scoped>\n",
       "    .dataframe tbody tr th:only-of-type {\n",
       "        vertical-align: middle;\n",
       "    }\n",
       "\n",
       "    .dataframe tbody tr th {\n",
       "        vertical-align: top;\n",
       "    }\n",
       "\n",
       "    .dataframe thead th {\n",
       "        text-align: right;\n",
       "    }\n",
       "</style>\n",
       "<table border=\"1\" class=\"dataframe\">\n",
       "  <thead>\n",
       "    <tr style=\"text-align: right;\">\n",
       "      <th></th>\n",
       "      <th>tconst</th>\n",
       "      <th>directors</th>\n",
       "      <th>writers</th>\n",
       "    </tr>\n",
       "  </thead>\n",
       "  <tbody>\n",
       "    <tr>\n",
       "      <td>0</td>\n",
       "      <td>tt0000001</td>\n",
       "      <td>nm0005690</td>\n",
       "      <td>NaN</td>\n",
       "    </tr>\n",
       "    <tr>\n",
       "      <td>1</td>\n",
       "      <td>tt0000002</td>\n",
       "      <td>nm0721526</td>\n",
       "      <td>NaN</td>\n",
       "    </tr>\n",
       "  </tbody>\n",
       "</table>\n",
       "</div>"
      ],
      "text/plain": [
       "      tconst  directors writers\n",
       "0  tt0000001  nm0005690     NaN\n",
       "1  tt0000002  nm0721526     NaN"
      ]
     },
     "execution_count": 12,
     "metadata": {},
     "output_type": "execute_result"
    }
   ],
   "source": [
    "crew.head(2)"
   ]
  },
  {
   "cell_type": "code",
   "execution_count": 13,
   "metadata": {},
   "outputs": [
    {
     "data": {
      "text/html": [
       "<div>\n",
       "<style scoped>\n",
       "    .dataframe tbody tr th:only-of-type {\n",
       "        vertical-align: middle;\n",
       "    }\n",
       "\n",
       "    .dataframe tbody tr th {\n",
       "        vertical-align: top;\n",
       "    }\n",
       "\n",
       "    .dataframe thead th {\n",
       "        text-align: right;\n",
       "    }\n",
       "</style>\n",
       "<table border=\"1\" class=\"dataframe\">\n",
       "  <thead>\n",
       "    <tr style=\"text-align: right;\">\n",
       "      <th></th>\n",
       "      <th>nconst</th>\n",
       "      <th>primaryName</th>\n",
       "    </tr>\n",
       "  </thead>\n",
       "  <tbody>\n",
       "    <tr>\n",
       "      <td>0</td>\n",
       "      <td>nm0000001</td>\n",
       "      <td>Fred Astaire</td>\n",
       "    </tr>\n",
       "    <tr>\n",
       "      <td>1</td>\n",
       "      <td>nm0000002</td>\n",
       "      <td>Lauren Bacall</td>\n",
       "    </tr>\n",
       "  </tbody>\n",
       "</table>\n",
       "</div>"
      ],
      "text/plain": [
       "      nconst    primaryName\n",
       "0  nm0000001   Fred Astaire\n",
       "1  nm0000002  Lauren Bacall"
      ]
     },
     "execution_count": 13,
     "metadata": {},
     "output_type": "execute_result"
    }
   ],
   "source": [
    "names.head(2)"
   ]
  },
  {
   "cell_type": "code",
   "execution_count": 14,
   "metadata": {},
   "outputs": [
    {
     "data": {
      "text/html": [
       "<div>\n",
       "<style scoped>\n",
       "    .dataframe tbody tr th:only-of-type {\n",
       "        vertical-align: middle;\n",
       "    }\n",
       "\n",
       "    .dataframe tbody tr th {\n",
       "        vertical-align: top;\n",
       "    }\n",
       "\n",
       "    .dataframe thead th {\n",
       "        text-align: right;\n",
       "    }\n",
       "</style>\n",
       "<table border=\"1\" class=\"dataframe\">\n",
       "  <thead>\n",
       "    <tr style=\"text-align: right;\">\n",
       "      <th></th>\n",
       "      <th>tconst</th>\n",
       "      <th>averageRating</th>\n",
       "      <th>numVotes</th>\n",
       "    </tr>\n",
       "  </thead>\n",
       "  <tbody>\n",
       "    <tr>\n",
       "      <td>0</td>\n",
       "      <td>tt0000001</td>\n",
       "      <td>5.6</td>\n",
       "      <td>1538</td>\n",
       "    </tr>\n",
       "    <tr>\n",
       "      <td>1</td>\n",
       "      <td>tt0000002</td>\n",
       "      <td>6.1</td>\n",
       "      <td>185</td>\n",
       "    </tr>\n",
       "    <tr>\n",
       "      <td>2</td>\n",
       "      <td>tt0000003</td>\n",
       "      <td>6.5</td>\n",
       "      <td>1193</td>\n",
       "    </tr>\n",
       "  </tbody>\n",
       "</table>\n",
       "</div>"
      ],
      "text/plain": [
       "      tconst  averageRating  numVotes\n",
       "0  tt0000001            5.6      1538\n",
       "1  tt0000002            6.1       185\n",
       "2  tt0000003            6.5      1193"
      ]
     },
     "execution_count": 14,
     "metadata": {},
     "output_type": "execute_result"
    }
   ],
   "source": [
    "ratings.head(3)"
   ]
  },
  {
   "cell_type": "markdown",
   "metadata": {},
   "source": [
    "We want to merge all three dataframes. Ultimately, we want to compare the rating with the names of the directors. Therefore, we only need to keep the lines that display a rating: how = 'inner' is sufficient."
   ]
  },
  {
   "cell_type": "code",
   "execution_count": 15,
   "metadata": {},
   "outputs": [],
   "source": [
    "ratingcrew = pd.merge(ratings,crew, how = 'inner', on=['tconst'])"
   ]
  },
  {
   "cell_type": "code",
   "execution_count": 16,
   "metadata": {},
   "outputs": [],
   "source": [
    "names = names.rename(columns = {'nconst':'directors'})"
   ]
  },
  {
   "cell_type": "code",
   "execution_count": 17,
   "metadata": {},
   "outputs": [],
   "source": [
    "ratingcrewnames = pd.merge(ratingcrew, names, how = 'inner', on=['directors'])"
   ]
  },
  {
   "cell_type": "code",
   "execution_count": 18,
   "metadata": {},
   "outputs": [
    {
     "data": {
      "text/plain": [
       "[976773, 723690]"
      ]
     },
     "execution_count": 18,
     "metadata": {},
     "output_type": "execute_result"
    }
   ],
   "source": [
    "[len(ratingcrew), len(ratingcrewnames)]"
   ]
  },
  {
   "cell_type": "code",
   "execution_count": 19,
   "metadata": {},
   "outputs": [
    {
     "data": {
      "text/html": [
       "<div>\n",
       "<style scoped>\n",
       "    .dataframe tbody tr th:only-of-type {\n",
       "        vertical-align: middle;\n",
       "    }\n",
       "\n",
       "    .dataframe tbody tr th {\n",
       "        vertical-align: top;\n",
       "    }\n",
       "\n",
       "    .dataframe thead th {\n",
       "        text-align: right;\n",
       "    }\n",
       "</style>\n",
       "<table border=\"1\" class=\"dataframe\">\n",
       "  <thead>\n",
       "    <tr style=\"text-align: right;\">\n",
       "      <th></th>\n",
       "      <th>tconst</th>\n",
       "      <th>averageRating</th>\n",
       "      <th>numVotes</th>\n",
       "      <th>directors</th>\n",
       "      <th>writers</th>\n",
       "      <th>primaryName</th>\n",
       "    </tr>\n",
       "  </thead>\n",
       "  <tbody>\n",
       "    <tr>\n",
       "      <td>723686</td>\n",
       "      <td>tt9913056</td>\n",
       "      <td>6.3</td>\n",
       "      <td>6</td>\n",
       "      <td>nm1502645</td>\n",
       "      <td>NaN</td>\n",
       "      <td>Sarah Christman</td>\n",
       "    </tr>\n",
       "    <tr>\n",
       "      <td>723687</td>\n",
       "      <td>tt9914642</td>\n",
       "      <td>8.6</td>\n",
       "      <td>17</td>\n",
       "      <td>nm5300859</td>\n",
       "      <td>nm5300859,nm7332227</td>\n",
       "      <td>Chris Jordan</td>\n",
       "    </tr>\n",
       "    <tr>\n",
       "      <td>723688</td>\n",
       "      <td>tt9914644</td>\n",
       "      <td>8.4</td>\n",
       "      <td>21</td>\n",
       "      <td>nm10537376</td>\n",
       "      <td>NaN</td>\n",
       "      <td>Grace Chapman</td>\n",
       "    </tr>\n",
       "    <tr>\n",
       "      <td>723689</td>\n",
       "      <td>tt9915790</td>\n",
       "      <td>6.4</td>\n",
       "      <td>5</td>\n",
       "      <td>nm10538030</td>\n",
       "      <td>NaN</td>\n",
       "      <td>Sudipa Chatterjee</td>\n",
       "    </tr>\n",
       "  </tbody>\n",
       "</table>\n",
       "</div>"
      ],
      "text/plain": [
       "           tconst  averageRating  numVotes   directors              writers  \\\n",
       "723686  tt9913056            6.3         6   nm1502645                  NaN   \n",
       "723687  tt9914642            8.6        17   nm5300859  nm5300859,nm7332227   \n",
       "723688  tt9914644            8.4        21  nm10537376                  NaN   \n",
       "723689  tt9915790            6.4         5  nm10538030                  NaN   \n",
       "\n",
       "              primaryName  \n",
       "723686    Sarah Christman  \n",
       "723687       Chris Jordan  \n",
       "723688      Grace Chapman  \n",
       "723689  Sudipa Chatterjee  "
      ]
     },
     "execution_count": 19,
     "metadata": {},
     "output_type": "execute_result"
    }
   ],
   "source": [
    "ratingcrewnames.tail(4)"
   ]
  },
  {
   "cell_type": "markdown",
   "metadata": {},
   "source": [
    "Check whether there are more than one director: the code for director seems to always have more or less the same length. Therefore, we will test whether some entries are a longer string and look at these entries. "
   ]
  },
  {
   "cell_type": "code",
   "execution_count": 20,
   "metadata": {},
   "outputs": [],
   "source": [
    "new_df = ratingcrewnames[ratingcrewnames.apply(lambda x : len(x['directors'])>=12,axis=1)]"
   ]
  },
  {
   "cell_type": "code",
   "execution_count": 21,
   "metadata": {},
   "outputs": [
    {
     "data": {
      "text/html": [
       "<div>\n",
       "<style scoped>\n",
       "    .dataframe tbody tr th:only-of-type {\n",
       "        vertical-align: middle;\n",
       "    }\n",
       "\n",
       "    .dataframe tbody tr th {\n",
       "        vertical-align: top;\n",
       "    }\n",
       "\n",
       "    .dataframe thead th {\n",
       "        text-align: right;\n",
       "    }\n",
       "</style>\n",
       "<table border=\"1\" class=\"dataframe\">\n",
       "  <thead>\n",
       "    <tr style=\"text-align: right;\">\n",
       "      <th></th>\n",
       "      <th>tconst</th>\n",
       "      <th>averageRating</th>\n",
       "      <th>numVotes</th>\n",
       "      <th>directors</th>\n",
       "      <th>writers</th>\n",
       "      <th>primaryName</th>\n",
       "    </tr>\n",
       "  </thead>\n",
       "  <tbody>\n",
       "  </tbody>\n",
       "</table>\n",
       "</div>"
      ],
      "text/plain": [
       "Empty DataFrame\n",
       "Columns: [tconst, averageRating, numVotes, directors, writers, primaryName]\n",
       "Index: []"
      ]
     },
     "execution_count": 21,
     "metadata": {},
     "output_type": "execute_result"
    }
   ],
   "source": [
    "new_df"
   ]
  },
  {
   "cell_type": "markdown",
   "metadata": {},
   "source": [
    "Seems that there are no double entries for directors"
   ]
  },
  {
   "cell_type": "markdown",
   "metadata": {},
   "source": [
    "Check whether there is data on writers:"
   ]
  },
  {
   "cell_type": "code",
   "execution_count": 22,
   "metadata": {},
   "outputs": [
    {
     "data": {
      "text/plain": [
       "False"
      ]
     },
     "execution_count": 22,
     "metadata": {},
     "output_type": "execute_result"
    }
   ],
   "source": [
    "len(ratingcrewnames) == ratingcrewnames.writers.isnull().sum()"
   ]
  },
  {
   "cell_type": "markdown",
   "metadata": {},
   "source": [
    "There is, but we won't use it for now"
   ]
  },
  {
   "cell_type": "markdown",
   "metadata": {},
   "source": [
    "We drop the columns that we don't need:"
   ]
  },
  {
   "cell_type": "code",
   "execution_count": 23,
   "metadata": {},
   "outputs": [
    {
     "data": {
      "text/plain": [
       "723690"
      ]
     },
     "execution_count": 23,
     "metadata": {},
     "output_type": "execute_result"
    }
   ],
   "source": [
    "len(ratingcrewnames.averageRating)"
   ]
  },
  {
   "cell_type": "markdown",
   "metadata": {},
   "source": [
    "Creating a new column with the first names:"
   ]
  },
  {
   "cell_type": "code",
   "execution_count": 24,
   "metadata": {},
   "outputs": [],
   "source": [
    "ratingcrewnames['firstName'] = ratingcrewnames['primaryName'].apply(lambda x : (x.split())[0])"
   ]
  },
  {
   "cell_type": "code",
   "execution_count": 25,
   "metadata": {},
   "outputs": [
    {
     "data": {
      "text/plain": [
       "Michael         14693\n",
       "John            13706\n",
       "David           13616\n",
       "James            8572\n",
       "Peter            8482\n",
       "                ...  \n",
       "Tahsine             1\n",
       "Anshuman            1\n",
       "Jolynn              1\n",
       "Shrikrishnan        1\n",
       "Thambi              1\n",
       "Name: firstName, Length: 25971, dtype: int64"
      ]
     },
     "execution_count": 25,
     "metadata": {},
     "output_type": "execute_result"
    }
   ],
   "source": [
    "ratingcrewnames.firstName.value_counts()"
   ]
  },
  {
   "cell_type": "code",
   "execution_count": 26,
   "metadata": {},
   "outputs": [],
   "source": [
    "firstNamesList = ratingcrewnames.firstName.unique()"
   ]
  },
  {
   "cell_type": "code",
   "execution_count": 27,
   "metadata": {},
   "outputs": [
    {
     "data": {
      "text/plain": [
       "25971"
      ]
     },
     "execution_count": 27,
     "metadata": {},
     "output_type": "execute_result"
    }
   ],
   "source": [
    "len(firstNamesList)"
   ]
  },
  {
   "cell_type": "code",
   "execution_count": 28,
   "metadata": {},
   "outputs": [],
   "source": [
    "#import gender_guesser.detector as gender\n",
    "#d = gender.Detector()"
   ]
  },
  {
   "cell_type": "code",
   "execution_count": 29,
   "metadata": {},
   "outputs": [],
   "source": [
    "#d.get_gender(firstNamesList[0])"
   ]
  },
  {
   "cell_type": "code",
   "execution_count": 30,
   "metadata": {},
   "outputs": [],
   "source": [
    "#ratingcrewnames.head(2)"
   ]
  },
  {
   "cell_type": "code",
   "execution_count": 31,
   "metadata": {},
   "outputs": [],
   "source": [
    "#ratingcrewnames['gender'] = ratingcrewnames['firstName'].agg( d.get_gender)"
   ]
  },
  {
   "cell_type": "markdown",
   "metadata": {},
   "source": [
    "get_name seems to not be able to identiy a lot of names. What's the percentage of names it doesn't know? And what's the percentage of movies, of which we don't know the name of the director?"
   ]
  },
  {
   "cell_type": "code",
   "execution_count": 32,
   "metadata": {},
   "outputs": [],
   "source": [
    "#[ratingcrewnames[ratingcrewnames['gender'] == 'unknown']['firstName'].unique(),\n",
    "# ratingcrewnames[ratingcrewnames['gender'] == 'unknown']['firstName'].nunique(),\n",
    "# ratingcrewnames['firstName'].nunique()]"
   ]
  },
  {
   "cell_type": "code",
   "execution_count": 33,
   "metadata": {},
   "outputs": [],
   "source": [
    "#round(100*(ratingcrewnames[ratingcrewnames['gender'] == 'unknown']['firstName'].nunique())/\n",
    "#      ( ratingcrewnames['firstName'].nunique()),2)"
   ]
  },
  {
   "cell_type": "code",
   "execution_count": 34,
   "metadata": {},
   "outputs": [],
   "source": [
    "#round(100*(len(ratingcrewnames[ratingcrewnames['gender'] == 'unknown']))/\n",
    "#      ( len(ratingcrewnames['firstName'])),2)"
   ]
  },
  {
   "cell_type": "markdown",
   "metadata": {},
   "source": [
    "Roughly 10% of the movies are affected. We will see whether there are some very popular unknown names that we can add and thereby push the percentage down."
   ]
  },
  {
   "cell_type": "code",
   "execution_count": 35,
   "metadata": {},
   "outputs": [],
   "source": [
    "#ratingcrewnames[ratingcrewnames['gender'] == 'unknown']['firstName'].value_counts()"
   ]
  },
  {
   "cell_type": "code",
   "execution_count": 36,
   "metadata": {},
   "outputs": [],
   "source": [
    "#100*(1014 + 484 + 469 + 462 + 425)/14652"
   ]
  },
  {
   "cell_type": "markdown",
   "metadata": {},
   "source": [
    "the five most popular names together are roughly 20% of all unknowns. If we asign the gender, it will not have a massive impact. But as we am here to play around with datasets, we'll do it anyways."
   ]
  },
  {
   "cell_type": "code",
   "execution_count": 37,
   "metadata": {},
   "outputs": [],
   "source": [
    "#ratingcrewnames[ratingcrewnames['firstName'] == 'J.']['primaryName'].value_counts()"
   ]
  },
  {
   "cell_type": "markdown",
   "metadata": {},
   "source": [
    "it would be practical to read the second name instead of the first initial:"
   ]
  },
  {
   "cell_type": "code",
   "execution_count": 38,
   "metadata": {},
   "outputs": [],
   "source": [
    "#ratingcrewnames.loc[ratingcrewnames['firstName'] == 'J.','secondName'] = ratingcrewnames.loc[ratingcrewnames['firstName'] == 'J.']['primaryName'].apply(lambda x : (x.split())[1])"
   ]
  },
  {
   "cell_type": "code",
   "execution_count": 39,
   "metadata": {},
   "outputs": [],
   "source": [
    "#ratingcrewnames.loc[~ratingcrewnames['secondName'].isnull(), 'firstName'] = ratingcrewnames['secondName']"
   ]
  },
  {
   "cell_type": "code",
   "execution_count": 40,
   "metadata": {},
   "outputs": [],
   "source": [
    "#ratingcrewnames.loc[ratingcrewnames['firstName'] == 'J.']"
   ]
  },
  {
   "cell_type": "markdown",
   "metadata": {},
   "source": [
    "all J. are replaced. This is not a perfect method because some don't display a second name and the last name will be rated is first name. Overall, the resulting error is negligible. We will add the gender of the next most popular ones and then look at the percentage of movies affected"
   ]
  },
  {
   "cell_type": "code",
   "execution_count": 41,
   "metadata": {},
   "outputs": [],
   "source": [
    "#ratingcrewnames.loc[ratingcrewnames['firstName'] == 'Yasuichirô','gender'] = 'male'\n",
    "#ratingcrewnames.loc[ratingcrewnames['firstName'] == 'Gerren','gender'] = 'male'"
   ]
  },
  {
   "cell_type": "code",
   "execution_count": 42,
   "metadata": {},
   "outputs": [],
   "source": [
    "#ratingcrewnames.loc[ratingcrewnames['firstName'] == 'K.','secondName'] = ratingcrewnames.loc[ratingcrewnames['firstName'] == 'K.']['primaryName'].apply(lambda x : (x.split())[1])\n",
    "#ratingcrewnames.loc[~ratingcrewnames['secondName'].isnull(), 'firstName'] = ratingcrewnames['secondName']"
   ]
  },
  {
   "cell_type": "code",
   "execution_count": 43,
   "metadata": {},
   "outputs": [],
   "source": [
    "#ratingcrewnames.loc[ratingcrewnames['firstName'] == 'D.W.']['primaryName'].value_counts()"
   ]
  },
  {
   "cell_type": "code",
   "execution_count": 44,
   "metadata": {},
   "outputs": [],
   "source": [
    "#ratingcrewnames.loc[ratingcrewnames['firstName'] == 'D.W.','gender'] = 'male'"
   ]
  },
  {
   "cell_type": "markdown",
   "metadata": {},
   "source": [
    "<h4> using beautiful soap to get the synopsis of movies from IMDB </h4>"
   ]
  },
  {
   "cell_type": "code",
   "execution_count": 45,
   "metadata": {},
   "outputs": [],
   "source": [
    "from bs4 import BeautifulSoup\n",
    "import requests\n",
    "import json"
   ]
  },
  {
   "cell_type": "markdown",
   "metadata": {},
   "source": [
    "from https://github.com/msaqib4203/IMDB-API :"
   ]
  },
  {
   "cell_type": "code",
   "execution_count": 46,
   "metadata": {},
   "outputs": [],
   "source": [
    "def parsePersons(persons):\n",
    "\t\t\t\n",
    "\tnames = []\n",
    "\tif isinstance(persons,dict):\n",
    "\t\tnames.append(persons['name'])\n",
    "\t\treturn names\n",
    "\t\t\n",
    "\tfor person in persons:\n",
    "\t\tif person['@type'] == \"Person\":\n",
    "\t\t\tnames.append(person['name'])\n",
    "\treturn names\n",
    "\n",
    "def getJSON(html):\n",
    "\n",
    "\tdata = {}\n",
    "\tdata['id'] =  html.find(attrs={'property':'pageId'})['content']\n",
    "\tdata['url'] = 'https://www.imdb.com/title/'+data['id']\n",
    "\thtml_json =  html.find(attrs={'type':'application/ld+json'}).text.strip()\n",
    "\tfetchedJson = json.loads(html_json)\n",
    "\tdata['poster'] = html.find(attrs={'class':'poster'}).find('img')['src']\n",
    "\ttitle_wrapper =  html.find(attrs={'class':'title_wrapper'}).text.strip()\n",
    "\tdata['title'] = title_wrapper[:title_wrapper.find(')')+1]\n",
    "\tdata['rating'] = html.find(itemprop='ratingValue').text\n",
    "\tdata['bestRating'] = html.find(itemprop='bestRating').text\n",
    "\tdata['votes'] = html.find(itemprop='ratingCount').text\n",
    "\tdata['rated'] = fetchedJson['contentRating']\n",
    "\tdata['genres'] = fetchedJson['genre']\n",
    "\tdata['description'] = fetchedJson['description']\n",
    "\tdata['cast'] = parsePersons(fetchedJson['actor'])\n",
    "\tdata['writers'] = parsePersons(fetchedJson['creator'])\t\t\n",
    "\tdata['directors'] = parsePersons(fetchedJson['director'])\t\n",
    "\tjson_data = json.dumps(data)\n",
    "\treturn json_data\n",
    "\n",
    "def getJSON2(html):\n",
    "\n",
    "\tdata = {}\n",
    "\tdata['id'] =  html.find(attrs={'property':'pageId'})['content']\n",
    "\tdata['url'] = 'https://www.imdb.com/title/'+data['id']\n",
    "\thtml_json =  html.find(attrs={'type':'application/ld+json'}).text.strip()\n",
    "\tfetchedJson = json.loads(html_json)\n",
    "\tdata['poster'] = html.find(attrs={'class':'poster'}).find('img')['src']\n",
    "\ttitle_wrapper =  html.find(attrs={'class':'title_wrapper'}).text.strip()\n",
    "\tdata['title'] = title_wrapper[:title_wrapper.find(')')+1]\n",
    "\tdata['rating'] = html.find(itemprop='ratingValue').text\n",
    "#\tdata['bestRating'] = html.find(itemprop='bestRating').text\n",
    "\tdata['votes'] = html.find(itemprop='ratingCount').text\n",
    "#\tdata['rated'] = fetchedJson['contentRating']\n",
    "\tdata['genres'] = fetchedJson['genre']\n",
    "\tdata['description'] = fetchedJson['description']\n",
    "\tdata['cast'] = parsePersons(fetchedJson['actor'])\n",
    "\tdata['writers'] = parsePersons(fetchedJson['creator'])\t\t\n",
    "\tdata['directors'] = parsePersons(fetchedJson['director'])\t\n",
    "\tjson_data = json.dumps(data)\n",
    "\treturn data\n",
    "\n",
    "\n",
    "\t\n",
    "def getHTML(url):\n",
    "\t\n",
    "\tresponse = requests.get(url)\n",
    "\treturn BeautifulSoup(response.content,'html.parser')\t\n",
    "\t\n",
    "def getURL(input):\n",
    "\ttry:\n",
    "\t\tif input[0] == 't' and input[1] == 't':\n",
    "\t\t\thtml = getHTML('https://www.imdb.com/title/'+input+'/')\n",
    "\t\t\t\n",
    "\t\telse:\n",
    "\t\t\thtml = getHTML('https://www.google.co.in/search?q='+input)\n",
    "\t\t\tfor cite in html.findAll('cite'):\n",
    "\t\t\t\tif 'imdb.com/title/tt' in cite.text:\n",
    "\t\t\t\t\thtml = getHTML(cite.text)\n",
    "\t\t\t\t\tbreak\n",
    "\t\treturn getJSON(html)\t\n",
    "\texcept Exception as e:\n",
    "\t\tprint(e)\n",
    "\t\treturn 'Invalid input or Network Error!'\n",
    "    \n",
    "    \n",
    "    \n",
    "def getURL2(input):\n",
    "\ttry:\n",
    "\t\tif input[0] == 't' and input[1] == 't':\n",
    "\t\t\thtml = getHTML('https://www.imdb.com/title/'+input+'/')\n",
    "\t\t\t\n",
    "\t\telse:\n",
    "\t\t\thtml = getHTML('https://www.google.co.in/search?q='+input)\n",
    "\t\t\tfor cite in html.findAll('cite'):\n",
    "\t\t\t\tif 'imdb.com/title/tt' in cite.text:\n",
    "\t\t\t\t\thtml = getHTML(cite.text)\n",
    "\t\t\t\t\tbreak\n",
    "\t\treturn getJSON2(html)\t\n",
    "\texcept Exception as e:\n",
    "\t\tprint(e)\n",
    "\t\treturn 'Invalid input or Network Error!'    \n",
    "\t\t\n",
    "\t\n",
    "#input = raw_input(\"Enter IMDB ID or Title: \")\n",
    "#print('Getting information, Please Wait....')\n",
    "#print(getURL(input))"
   ]
  },
  {
   "cell_type": "markdown",
   "metadata": {},
   "source": [
    "Test with \"Meet the feebles\" : https://www.imdb.com/title/tt0097858/?ref_=nv_sr_1?ref_=nv_sr_1\n",
    "movie number is tt0097858"
   ]
  },
  {
   "cell_type": "code",
   "execution_count": 47,
   "metadata": {},
   "outputs": [],
   "source": [
    "mtf = 'tt0097858'"
   ]
  },
  {
   "cell_type": "code",
   "execution_count": 48,
   "metadata": {},
   "outputs": [],
   "source": [
    "mtf2 = getURL2(mtf)"
   ]
  },
  {
   "cell_type": "code",
   "execution_count": 49,
   "metadata": {},
   "outputs": [
    {
     "data": {
      "text/plain": [
       "{'id': 'tt0097858',\n",
       " 'url': 'https://www.imdb.com/title/tt0097858',\n",
       " 'poster': 'https://m.media-amazon.com/images/M/MV5BNzFlM2ZlYWItNjg1Mi00ZTA4LWFmYzgtZTI3YWZkNTJjMmQ1XkEyXkFqcGdeQXVyMTQxNzMzNDI@._V1_UX182_CR0,0,182,268_AL_.jpg',\n",
       " 'title': 'Meet the Feebles\\xa0(1989)',\n",
       " 'rating': '6.7',\n",
       " 'votes': '18,173',\n",
       " 'genres': ['Comedy', 'Music', 'Musical'],\n",
       " 'description': 'Meet the Feebles is a movie starring Danny Mulheron, Donna Akersten, and Stuart Devenie. Multiple animals and insects experience the sleazier side of show business while working on a variety show.',\n",
       " 'cast': ['Danny Mulheron', 'Donna Akersten', 'Stuart Devenie', 'Mark Hadlow'],\n",
       " 'writers': ['Fran Walsh',\n",
       "  'Stephen Sinclair',\n",
       "  'Danny Mulheron',\n",
       "  'Peter Jackson'],\n",
       " 'directors': ['Peter Jackson']}"
      ]
     },
     "execution_count": 49,
     "metadata": {},
     "output_type": "execute_result"
    }
   ],
   "source": [
    "mtf2"
   ]
  },
  {
   "cell_type": "code",
   "execution_count": 50,
   "metadata": {},
   "outputs": [
    {
     "data": {
      "text/plain": [
       "'Meet the Feebles is a movie starring Danny Mulheron, Donna Akersten, and Stuart Devenie. Multiple animals and insects experience the sleazier side of show business while working on a variety show.'"
      ]
     },
     "execution_count": 50,
     "metadata": {},
     "output_type": "execute_result"
    }
   ],
   "source": [
    "mtf2[\"description\"]"
   ]
  },
  {
   "cell_type": "markdown",
   "metadata": {},
   "source": []
  },
  {
   "cell_type": "code",
   "execution_count": 51,
   "metadata": {},
   "outputs": [],
   "source": [
    "#df_descr = pd.DataFrame(columns = ['tconst','description'])\n",
    "#i = 0\n",
    "#for tt in list_of_title_numbers:\n",
    "#    xx = getURL2(tt)\n",
    "#    try:\n",
    "#        new_row = [tt, xx['description']]\n",
    "#        df_descr.loc[i] = new_row\n",
    "#        i +=1\n",
    "#    except:\n",
    "#        print('whoopsies')\n",
    "#\n",
    "#df_descr.to_csv('imdb.csv')"
   ]
  },
  {
   "cell_type": "markdown",
   "metadata": {},
   "source": [
    "we downloaded the data and saved it as a .csv"
   ]
  },
  {
   "cell_type": "code",
   "execution_count": 76,
   "metadata": {},
   "outputs": [],
   "source": [
    "imdb_folder = gl.glob('IMDB/IMDB*.csv')\n",
    "imdb_df_list = []\n",
    "for xx in range(len(imdb_folder)):\n",
    "    imdb_read = pd.read_csv(imdb_folder[xx], header = 0)\n",
    "    imdb_df_list.append(imdb_read)\n",
    "descr = pd.concat(imdb_df_list, ignore_index = True)\n",
    "descr = descr.drop(['Unnamed: 0'], axis = 1)"
   ]
  },
  {
   "cell_type": "code",
   "execution_count": 77,
   "metadata": {},
   "outputs": [
    {
     "data": {
      "text/html": [
       "<div>\n",
       "<style scoped>\n",
       "    .dataframe tbody tr th:only-of-type {\n",
       "        vertical-align: middle;\n",
       "    }\n",
       "\n",
       "    .dataframe tbody tr th {\n",
       "        vertical-align: top;\n",
       "    }\n",
       "\n",
       "    .dataframe thead th {\n",
       "        text-align: right;\n",
       "    }\n",
       "</style>\n",
       "<table border=\"1\" class=\"dataframe\">\n",
       "  <thead>\n",
       "    <tr style=\"text-align: right;\">\n",
       "      <th></th>\n",
       "      <th>tconst</th>\n",
       "      <th>description</th>\n",
       "    </tr>\n",
       "  </thead>\n",
       "  <tbody>\n",
       "    <tr>\n",
       "      <td>0</td>\n",
       "      <td>tt0113026</td>\n",
       "      <td>The Fantasticks is a movie starring Joel Grey,...</td>\n",
       "    </tr>\n",
       "    <tr>\n",
       "      <td>1</td>\n",
       "      <td>tt0113092</td>\n",
       "      <td>For the Cause is a movie starring Dean Cain, T...</td>\n",
       "    </tr>\n",
       "  </tbody>\n",
       "</table>\n",
       "</div>"
      ],
      "text/plain": [
       "      tconst                                        description\n",
       "0  tt0113026  The Fantasticks is a movie starring Joel Grey,...\n",
       "1  tt0113092  For the Cause is a movie starring Dean Cain, T..."
      ]
     },
     "execution_count": 77,
     "metadata": {},
     "output_type": "execute_result"
    }
   ],
   "source": [
    "descr.head(2)"
   ]
  },
  {
   "cell_type": "code",
   "execution_count": 75,
   "metadata": {},
   "outputs": [
    {
     "data": {
      "text/html": [
       "<div>\n",
       "<style scoped>\n",
       "    .dataframe tbody tr th:only-of-type {\n",
       "        vertical-align: middle;\n",
       "    }\n",
       "\n",
       "    .dataframe tbody tr th {\n",
       "        vertical-align: top;\n",
       "    }\n",
       "\n",
       "    .dataframe thead th {\n",
       "        text-align: right;\n",
       "    }\n",
       "</style>\n",
       "<table border=\"1\" class=\"dataframe\">\n",
       "  <thead>\n",
       "    <tr style=\"text-align: right;\">\n",
       "      <th></th>\n",
       "      <th>tconst</th>\n",
       "      <th>primaryTitle</th>\n",
       "      <th>originalTitle</th>\n",
       "      <th>startYear</th>\n",
       "      <th>genres</th>\n",
       "    </tr>\n",
       "  </thead>\n",
       "  <tbody>\n",
       "    <tr>\n",
       "      <td>8</td>\n",
       "      <td>tt0000009</td>\n",
       "      <td>Miss Jerry</td>\n",
       "      <td>Miss Jerry</td>\n",
       "      <td>1894</td>\n",
       "      <td>Romance</td>\n",
       "    </tr>\n",
       "    <tr>\n",
       "      <td>145</td>\n",
       "      <td>tt0000147</td>\n",
       "      <td>The Corbett-Fitzsimmons Fight</td>\n",
       "      <td>The Corbett-Fitzsimmons Fight</td>\n",
       "      <td>1897</td>\n",
       "      <td>Documentary,News,Sport</td>\n",
       "    </tr>\n",
       "  </tbody>\n",
       "</table>\n",
       "</div>"
      ],
      "text/plain": [
       "        tconst                   primaryTitle                  originalTitle  \\\n",
       "8    tt0000009                     Miss Jerry                     Miss Jerry   \n",
       "145  tt0000147  The Corbett-Fitzsimmons Fight  The Corbett-Fitzsimmons Fight   \n",
       "\n",
       "    startYear                  genres  \n",
       "8        1894                 Romance  \n",
       "145      1897  Documentary,News,Sport  "
      ]
     },
     "execution_count": 75,
     "metadata": {},
     "output_type": "execute_result"
    }
   ],
   "source": [
    "title.head(2)"
   ]
  },
  {
   "cell_type": "code",
   "execution_count": 78,
   "metadata": {},
   "outputs": [],
   "source": [
    "imdb = pd.merge(title, descr, on = 'tconst' )"
   ]
  },
  {
   "cell_type": "code",
   "execution_count": 122,
   "metadata": {},
   "outputs": [],
   "source": [
    "from sklearn.feature_extraction.text import TfidfVectorizer\n",
    "from sklearn.cluster import KMeans"
   ]
  },
  {
   "cell_type": "code",
   "execution_count": 120,
   "metadata": {},
   "outputs": [],
   "source": [
    "descr_array = imdb.description.values\n",
    "vectorizer = TfidfVectorizer(min_df = 10, max_df = 250)\n",
    "X = vectorizer.fit_transform(descr_array)"
   ]
  },
  {
   "cell_type": "code",
   "execution_count": 124,
   "metadata": {},
   "outputs": [
    {
     "data": {
      "text/plain": [
       "0.8630159124991997"
      ]
     },
     "execution_count": 124,
     "metadata": {},
     "output_type": "execute_result"
    }
   ],
   "source": [
    "X.toarray().max()"
   ]
  },
  {
   "cell_type": "code",
   "execution_count": 118,
   "metadata": {},
   "outputs": [
    {
     "data": {
      "text/plain": [
       "(6289, 2544)"
      ]
     },
     "execution_count": 118,
     "metadata": {},
     "output_type": "execute_result"
    }
   ],
   "source": [
    "X.shape"
   ]
  },
  {
   "cell_type": "code",
   "execution_count": 128,
   "metadata": {},
   "outputs": [],
   "source": [
    "kmeans = KMeans(n_clusters=10, random_state=0).fit(X)"
   ]
  },
  {
   "cell_type": "code",
   "execution_count": 129,
   "metadata": {},
   "outputs": [
    {
     "data": {
      "text/plain": [
       "(10, 2544)"
      ]
     },
     "execution_count": 129,
     "metadata": {},
     "output_type": "execute_result"
    }
   ],
   "source": [
    "kmeans.cluster_centers_.shape"
   ]
  }
 ],
 "metadata": {
  "kernelspec": {
   "display_name": "Python 3",
   "language": "python",
   "name": "python3"
  },
  "language_info": {
   "codemirror_mode": {
    "name": "ipython",
    "version": 3
   },
   "file_extension": ".py",
   "mimetype": "text/x-python",
   "name": "python",
   "nbconvert_exporter": "python",
   "pygments_lexer": "ipython3",
   "version": "3.7.4"
  },
  "latex_envs": {
   "LaTeX_envs_menu_present": true,
   "autoclose": false,
   "autocomplete": true,
   "bibliofile": "biblio.bib",
   "cite_by": "apalike",
   "current_citInitial": 1,
   "eqLabelWithNumbers": true,
   "eqNumInitial": 1,
   "hotkeys": {
    "equation": "Ctrl-E",
    "itemize": "Ctrl-I"
   },
   "labels_anchors": false,
   "latex_user_defs": false,
   "report_style_numbering": false,
   "user_envs_cfg": false
  },
  "varInspector": {
   "cols": {
    "lenName": 16,
    "lenType": 16,
    "lenVar": 40
   },
   "kernels_config": {
    "python": {
     "delete_cmd_postfix": "",
     "delete_cmd_prefix": "del ",
     "library": "var_list.py",
     "varRefreshCmd": "print(var_dic_list())"
    },
    "r": {
     "delete_cmd_postfix": ") ",
     "delete_cmd_prefix": "rm(",
     "library": "var_list.r",
     "varRefreshCmd": "cat(var_dic_list()) "
    }
   },
   "position": {
    "height": "330.86px",
    "left": "auto",
    "right": "20px",
    "top": "120px",
    "width": "350px"
   },
   "types_to_exclude": [
    "module",
    "function",
    "builtin_function_or_method",
    "instance",
    "_Feature"
   ],
   "window_display": false
  }
 },
 "nbformat": 4,
 "nbformat_minor": 2
}
